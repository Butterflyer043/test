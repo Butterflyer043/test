{
  "nbformat": 4,
  "nbformat_minor": 0,
  "metadata": {
    "colab": {
      "name": "Test code.ipynb",
      "provenance": [],
      "collapsed_sections": []
    },
    "kernelspec": {
      "name": "python3",
      "display_name": "Python 3"
    }
  },
  "cells": [
    {
      "cell_type": "code",
      "metadata": {
        "id": "T1FcTrTTGdOO"
      },
      "source": [
        "# -*- coding: utf-8 -*-\n",
        "\"\"\"\n",
        "Created on Thu Mar  4 17:52:08 2021\n",
        "\n",
        "@author: Jinqi Zhang\n",
        "\"\"\"\n",
        "#=====================================================================\n",
        "# Testing script for Deliverable 2: Source Code Framework\n",
        "# Authors: Jinqi Zhang, Jingyi Wang, Jinglin Liang, Xueyan Liu\n",
        "#=====================================================================\n",
        "\n",
        "#=====================================================================\n",
        "# Testing DataSet Class \n",
        "#=====================================================================\n",
        "\n",
        "from source_code import (DataSet, TextDataSet, \n",
        "                         QualDataSet, QuantDataSet, \n",
        "                         TimeSeriesDataSet)\n",
        "\n",
        "def DataSetTests():\n",
        "    print(\"=================Start testing DataSet=================\")\n",
        "    data = DataSet(\"Quant_data.csv\")\n",
        "    print(\"===========================================================\")\n",
        "    print(\"Check class member methods...\\n\")\n",
        "    print(\"DataSet._readFromCSV()...\")\n",
        "    data._readFromCSV()\n",
        "    print(\"DataSet._load()...\")\n",
        "    data._load()\n",
        "    print(\"DataSet.head()...\")\n",
        "    data.head()\n",
        "    print(\"DataSet.clean()...\")\n",
        "    data.clean()\n",
        "    print(\"DataSet.explore()...\")\n",
        "    data.explore()\n",
        "    print(\"DataSet.colname()...\")\n",
        "    data.colname()\n",
        "    print(\"DataSet.colnum()...\")\n",
        "    data.colnum()\n",
        "    print(\"DataSet.rownum()...\")\n",
        "    data.rownum()\n",
        "    print(\"DataSet.getcol()...\")\n",
        "    data.getcol(\"W0\")\n",
        "    print(\"DataSet.__getitem__()...\")\n",
        "    data[3, 2]\n",
        "    print(\"=================End testing DataSet=================\")\n",
        "    print(\"\\n\\n\")\n",
        "    \n",
        "def  TimeSeriesDataSetTests():\n",
        "    print(\"=================Start testing TimeSeriesDataSetTests=================\")\n",
        "\n",
        "    df_ts = TimeSeriesDataSet(\"Time_data.csv\")\n",
        "    print(\"===========================================================\\n\")  \n",
        "    print(\"Check inheritence ...\")\n",
        "    print(\"head():\")\n",
        "    df_ts.head()\n",
        "    print(\"colname():\")\n",
        "    df_ts.colname()\n",
        "    print(\"colnum():\")\n",
        "    df_ts.colnum()\n",
        "    print(\"rownum():\")\n",
        "    df_ts.rownum()\n",
        "    print(\"getcol():\")\n",
        "    df_ts.getcol(\"AllHomesPrice\")\n",
        "    print(\"__getitem__():\")\n",
        "    df_ts[3, 5]\n",
        "    print (\"\\n\")\n",
        "    print(\"===========================================================\")\n",
        "\n",
        "    print(\"Check member methods... \\n\")\n",
        "    \n",
        "    print(\"clean(): (only presents 2 lines of result)\")\n",
        "    df_temp = df_ts.clean([\"AllHomesPrice\"],filter_size = 7)\n",
        "    print (df_temp.head(2))\n",
        "    ### test error raised \n",
        "    # df_ts.clean([\"wrongcol\"],filter_size = 7)\n",
        "    # df_ts.clean([\"AllHomesPrice\"],filter_size = \"s\")\n",
        "    # df_ts.clean(\"wrong, col\",filter_size = \"s\")\n",
        "    print(\"===========================================================\\n\")\n",
        "    \n",
        "    \n",
        "    print(\"transformation(method='log'): (only presents 2 lines of result)\")\n",
        "    df_temp = df_ts.transformation([\"AllHomesPrice\"],method=\"log\")\n",
        "    print (df_temp.head(2))\n",
        "    print(\"transformation(method='power'): (only presents 2 lines of result)\")\n",
        "    df_temp = df_ts.transformation([\"AllHomesPrice\"],method=\"power\",power=0.5)\n",
        "    print (df_temp.head(2))\n",
        "    ### test error raised \n",
        "    # df_ts.transformation([\"AllHomesPrice\"],method=\"wrong methods\")\n",
        "    # df_ts.transformation([\"wrongcol\"],method=\"log\")\n",
        "    # df_ts.transformation(\"wrong, col\",method=\"log\")\n",
        "    # df_ts.transformation([\"AllHomesPrice\"],method=\"power\",power=\"wrongpower\")\n",
        "    print(\"===========================================================\\n\")\n",
        "    \n",
        "    \n",
        "    print(\"differencing(): (only presents 2 lines of result)\")\n",
        "    df_temp = df_ts.differencing([\"AllHomesPrice\"],differences = 1)\n",
        "    print (df_temp.head(2))\n",
        "    ### test error raised \n",
        "    # df_ts.differencing([\"wrongcol\"],differences=1)\n",
        "    # df_ts.differencing(\"wrong, col\",differences=1)\n",
        "    # df_ts.differencing([\"AllHomesPrice\"],differences=\"wrongdiff\") \n",
        "    print(\"===========================================================\\n\")\n",
        "    \n",
        "    \n",
        "    print(\"movingaverage(): (only presents 2 lines of result)\")\n",
        "    df_temp = df_ts.movingaverage([\"AllHomesPrice\"],window = 1)\n",
        "    print (df_temp.head(2))\n",
        "    ### test error raised \n",
        "    # df_ts.movingaverage([\"wrongcol\"],window=1)\n",
        "    # df_ts.movingaverage(\"wrong, col\",window=1)\n",
        "    # df_ts.movingaverage([\"AllHomesPrice\"],window=\"wrongwindow\") \n",
        "    print(\"===========================================================\\n\")\n",
        "    \n",
        "    print(\"get_dataframe(): (only presents 2 lines of result)\")\n",
        "    df_temp = df_ts.get_dataframe()\n",
        "    print (df_temp.head(2))\n",
        "    print(\"===========================================================\\n\")\n",
        "    \n",
        "    print(\"Check columnnames after clean data: \")\n",
        "    print(df_ts.get_colname())\n",
        "    print(\"===========================================================\\n\")\n",
        "    \n",
        "    print (\"explore(vis_type='ts'): \") \n",
        "    df_ts.explore(tsColnameList=[\"AllHomesPrice\",  'cleaned_AllHomesPrice', 'logged_AllHomesPrice',\n",
        "                                 'powered_AllHomesPrice', 'diffed_AllHomesPrice', 'moving_AllHomesPrice'],\n",
        "                  date_colname=\"Date\",lag=2,vis_type=\"ts\")\n",
        "    ### test error raised \n",
        "    # df_ts.explore([\"wrongcol\"],date_colname=\"start_date\",vis_type=\"ts\")\n",
        "    # df_ts.explore(\"wrong, col\",date_colname=\"start_date\",vis_type=\"ts\")\n",
        "    # df_ts.explore([\"AllHomesPrice\"],date_colname=\"wrongdatacol\",vis_type=\"ts\")\n",
        "    # df_ts.explore([\"AllHomesPrice\"],vis_type=\"ts\")\n",
        "    # df_ts.explore([\"AllHomesPrice\"],date_colname=\"Date\",vis_type=\"wrongtype\")\n",
        "    print(\"===========================================================\\n\")\n",
        "    print (\"explore(vis_type='lag'): \") \n",
        "    df_ts.explore(tsColnameList=[\"AllHomesPrice\",  'cleaned_AllHomesPrice'],lag=2,vis_type=\"lag\")\n",
        "    ### test error raised \n",
        "    # df_ts.explore([\"wrongcol\"],lag=2,vis_type=\"lag\")\n",
        "    # df_ts.explore(\"wrong, col\",lag=2,vis_type=\"lag\")\n",
        "    # df_ts.explore([\"wrongcol\"],lag='wrong lag',vis_type=\"lag\")\n",
        "    # df_ts.explore([\"wrongcol\"],vis_type=\"lag\")\n",
        "    print(\"===========================================================\\n\")\n",
        "    print (\"explore(vis_type='all'): \") \n",
        "    df_ts.explore(tsColnameList=[\"AllHomesPrice\"], date_colname=\"Date\",lag=3,vis_type=\"all\")\n",
        "    ### test error raised \n",
        "    # df_ts.explore(tsColnameList=[\"wrongcol\"], date_colname=\"Date\",lag=2,vis_type=\"all\")\n",
        "    # df_ts.explore(tsColnameList=[\"AllHomesPrice\"],lag=2,vis_type=\"all\")\n",
        "    # df_ts.explore(tsColnameList=[\"AllHomesPrice\"],date_colname=\"Date\"lag='wrong lag',lag='wrong lag',vis_type=\"all\")\n",
        "    print(\"=================End testing TimeSeriesDataSetTests=================\")\n",
        "    print(\"\\n\\n\")\n",
        "\n",
        "\n",
        "def TextDataSetTests():\n",
        "    print(\"=================Start testing TextDataSetTests=================\")\n",
        "    yelp_df=TextDataSet(\"Text_data.csv\")\n",
        "    print(\"===========================================================\\n\") \n",
        "    print(\"Check inheritence ...\")\n",
        "    print(\"head():\")\n",
        "    yelp_df.head()\n",
        "    print(\"colname():\")\n",
        "    yelp_df.colname()\n",
        "    print(\"colnum():\")\n",
        "    yelp_df.colnum()\n",
        "    print(\"rownum():\")\n",
        "    yelp_df.rownum()\n",
        "    print(\"getcol():\")\n",
        "    yelp_df.getcol(\"text\")\n",
        "    print(\"__getitem__():\")\n",
        "    yelp_df[3,5]\n",
        "    \n",
        "    \n",
        "    print(\"===========================================================\\n\")\n",
        "    print(\"Check member methods...\\n\")\n",
        "    print(\"Check that clean have been overriden...\\n\")\n",
        "    \n",
        "    \n",
        "    clean_list = yelp_df.clean(colname=\"text\",lower=True, remove_diacritics=True, remove_punct=True, remove_stop=True, stem_tokens=True, lemmatize_tokens=True)\n",
        "    \n",
        "    print(clean_list[0])\n",
        "    \n",
        "    print(\"===========================================================\\n\")\n",
        "    print(\"Check the member method token_list...\\n\")\n",
        "    \n",
        "    mylist=TextDataSet.token_list(nested_list=clean_list)\n",
        "    \n",
        "    print(mylist[0:10])\n",
        "    \n",
        "    #print(\"Check the raise error in token_list...\\n\")\n",
        "    #test_list = [\"1\",\"2\",\"3\"]\n",
        "    \n",
        "    #print(\"TextDataSet.token_list(nested_list=test_list):\")\n",
        "    #mylist=TextDataSet.token_list(nested_list=test_list)\n",
        "    \n",
        "    print(\"===========================================================\\n\")\n",
        "    print(\"Check that explore have been overriden...\\n\")\n",
        "    \n",
        "    TextDataSet.explore(token_list=mylist, wordcloud=True, dispersion=True)\n",
        "    \n",
        "    #print(\"Check the raise error in explore...\\n\")\n",
        "    \n",
        "    #(\"TextDataSet.explore(token_list=2, wordcloud=True, dispersion=True):\")\n",
        "    #TextDataSet.explore(token_list=2, wordcloud=True, dispersion=True)\n",
        "    \n",
        "    #print(\"TextDataSet.explore(token_list=mylist, wordcloud=False, dispersion=False):\")\n",
        "    #TextDataSet.explore(token_list=mylist, wordcloud=False, dispersion=False)\n",
        "    \n",
        "    print(\"===========================================================\\n\")\n",
        "    print(\"Check the member method wordfrequency...\\n\")\n",
        "    \n",
        "    TextDataSet.wordfrequency(token_list=mylist,n=10,ascending= False)\n",
        "    \n",
        "    #print(\"Check the raise error in wordfrequency...\\n\")\n",
        "    \n",
        "    #print(\"TextDataSet.wordfrequency(token_list=mylist,n=1.5,ascending= False):\")\n",
        "    #TextDataSet.wordfrequency(token_list=mylist,n=1.5,ascending= False)\n",
        "    \n",
        "    #print(\"TextDataSet.wordfrequency(token_list=2,n=10,ascending= False):\")\n",
        "    #TextDataSet.wordfrequency(token_list=2,n=10,ascending= False)\n",
        "    print(\"=================End testing TextDataSetTests=================\")    \n",
        "    print(\"\\n\\n\")\n",
        "\n",
        "\n",
        "def QualDataSetTests():\n",
        "    print(\"=================Start testing QualDataSetTests=================\")\n",
        "    # Test the Qualatative dataset\n",
        "    df_qual = QualDataSet(\"Qual_data.csv\")\n",
        "\n",
        "    print(\"Check inheritence ...\")\n",
        "    print(\"head():\")\n",
        "    df_qual.head()\n",
        "    print(\"colname():\")\n",
        "    df_qual.colname()\n",
        "    print(\"colnum():\")\n",
        "    df_qual.colnum()\n",
        "    print(\"rownum():\")\n",
        "    df_qual.rownum()\n",
        "    print(\"getcol():\")\n",
        "    df_qual.getcol('What is your gender? - Selected Choice')\n",
        "    print(\"__getitem__():\")\n",
        "    print(\"__getitem__():\")\n",
        "    df_qual[3,5]\n",
        "    \n",
        "    # test the member method\n",
        "    print(\"===========================================================\")\n",
        "    print(\"Check member methods...\\n\")\n",
        "    print(\"Check that clean have been overriden...\\n\")\n",
        "    # test the clean()\n",
        "    df_qual.clean()\n",
        "\n",
        "    print(\"===========================================================\")\n",
        "    print(\"Check the member method explore...\\n\")\n",
        "    # test the explore()\n",
        "    df_qual.explore(plot_type_qual=\"hist\",column_qual='What is your gender? - Selected Choice')\n",
        "    df_qual.explore(plot_type_qual=\"pie\",column_qual='What is your gender? - Selected Choice')\n",
        "    # test the error situations\n",
        "    # wrong plot type\n",
        "    # df_qual.explore(plot_type_qual=\"scatter\",column_qual='What is your gender? - Selected Choice')\n",
        "    # wrong column name\n",
        "    # df_qual.explore(plot_type_qual=\"pie\",column_qual='abc')\n",
        "\n",
        "    print(\"===========================================================\")\n",
        "    print(\"Check the member method table...\\n\")\n",
        "    # test the table()\n",
        "    df_qual.table(column_table='What is your gender? - Selected Choice')\n",
        "    # wrong column name\n",
        "    #df_qual.table(column_table='abc')\n",
        "    print(\"=================End testing QualDataSetTests=================\")    \n",
        "    print(\"\\n\\n\")\n",
        "\n",
        "def QuantDataSetTests():\n",
        "    print(\"=================Start testing QuantDataSetTests=================\")\n",
        "    # Test the Quantatative dataset\n",
        "    df_quant = QuantDataSet(\"Quant_data.csv\")\n",
        "    print(\"===========================================================\\n\")\n",
        "    print(\"Check inheritence ...\")\n",
        "    print(\"head():\")\n",
        "    df_quant.head()\n",
        "    print(\"colname():\")\n",
        "    df_quant.colname()\n",
        "    print(\"colnum():\")\n",
        "    df_quant.colnum()\n",
        "    print(\"rownum():\")\n",
        "    df_quant.rownum()\n",
        "    print(\"getcol():\")\n",
        "    df_quant.getcol(\"W0\")\n",
        "    print(\"__getitem__():\")\n",
        "    df_quant[3, 5]\n",
        "\n",
        "    print(\"===========================================================\\n\")\n",
        "    print(\"Check the member method clean...\\n\")\n",
        "    # test the clean()\n",
        "    df_quant.clean()\n",
        "\n",
        "    print(\"===========================================================\\n\")\n",
        "    print(\"Check the member method explore...\\n\")\n",
        "    # test the explore()\n",
        "    df_quant.explore(plot_type=\"hist\",column1=\"W0\")\n",
        "    df_quant.explore(plot_type=\"scatter\",column1=\"W0\",column2=\"W1\")\n",
        "    # test the error situations\n",
        "    # wrong plot type\n",
        "    # df_quant.explore(plot_type=\"pie\",column1=\"W0\")\n",
        "    # wrong column name\n",
        "    # df_quant.explore(plot_type=\"scatter\",column1=\"W0\",column2=\"W00\")\n",
        "\n",
        "\n",
        "    print(\"===========================================================\\n\")\n",
        "    print(\"Check the member method mean...\\n\")\n",
        "    # test the mean function\n",
        "    df_quant.mean(column_name=\"W1\")\n",
        "    # wrong column name\n",
        "    # df_quant.mean(column_name=\"W1000\")\n",
        "\n",
        "\n",
        "    print(\"===========================================================\\n\")\n",
        "    print(\"Check the member method median...\\n\")\n",
        "    # test the median function\n",
        "    df_quant.median(column_name_median=\"W2\")\n",
        "    # wrong column name\n",
        "    # df_quant.median(column_name_median=\"W200\")\n",
        "\n",
        "\n",
        "    print(\"===========================================================\\n\")\n",
        "    print(\"Check the member method mode...\\n\")\n",
        "    # test the mode function\n",
        "    df_quant.mode(column_name_mode=\"W3\")\n",
        "    # wrong column name\n",
        "    # df_quant.mode(column_name_mode=\"W300\")\n",
        "\n",
        "    print(\"===========================================================\\n\")\n",
        "    print(\"Check the member method order...\\n\")\n",
        "    # test the order function\n",
        "    df_quant.order(column_name_order=\"W1\",decreasing=True)\n",
        "    # wrong column name\n",
        "    # df_quant.order(column_name_order=\"W400\",decreasing=True)\n",
        "    # df_quant.order(column_name_order=\"W4\",decreasing='Yes')\n",
        "    \n",
        "    print(\"=================End testing QuantDataSetTests=================\")    \n",
        "    print(\"\\n\\n\")\n",
        "\n",
        "def main():\n",
        "    DataSetTests()\n",
        "    QuantDataSetTests()\n",
        "    QualDataSetTests()\n",
        "    TextDataSetTests()\n",
        "    TimeSeriesDataSetTests()\n",
        "    print (\"\"\"Note: All the \"raise Error\" tests have been commented out.\"\"\")\n",
        "    \n",
        "if __name__==\"__main__\":\n",
        "    main()"
      ],
      "execution_count": null,
      "outputs": []
    },
    {
      "cell_type": "code",
      "metadata": {
        "id": "rnB3vkWiHykH"
      },
      "source": [
        "from source_code import (DataSet, TextDataSet, QualDataSet, QuantDataSet, TimeSeriesDataSet)\n",
        "import nltk\n",
        "#nltk.download('stopwords')\n",
        "#nltk.download('stopwords')\n",
        "#nltk.download('wordnet')\n",
        "#nltk.download('punkt')\n",
        "import pandas as pd\n",
        "pd.set_option('display.max_rows', 5)\n",
        "#pd.set_option('display.max_columns', 500)"
      ],
      "execution_count": 34,
      "outputs": []
    },
    {
      "cell_type": "markdown",
      "metadata": {
        "id": "b6ZUdclfcMoN"
      },
      "source": [
        "# Test the SuperClass: DataSet"
      ]
    },
    {
      "cell_type": "code",
      "metadata": {
        "id": "JfnHknOsTuyK"
      },
      "source": [
        "from source_code import (DataSet, TextDataSet, QualDataSet, QuantDataSet, TimeSeriesDataSet)\n",
        "data = DataSet(\"Quant_data.csv\")\n",
        "data._readFromCSV()"
      ],
      "execution_count": 20,
      "outputs": []
    },
    {
      "cell_type": "code",
      "metadata": {
        "colab": {
          "base_uri": "https://localhost:8080/",
          "height": 0
        },
        "id": "zUN8CTRdT4L9",
        "outputId": "82baacef-b694-41a9-dafd-4e73dab1dd92"
      },
      "source": [
        "data.head()"
      ],
      "execution_count": 18,
      "outputs": [
        {
          "output_type": "stream",
          "text": [
            "  Product_Code  W0  W1  ...  Normalized 49  Normalized 50  Normalized 51\n",
            "0           P1  11  12  ...           0.17           0.11           0.39\n",
            "1           P2   7   6  ...           0.10           0.60           0.00\n",
            "2           P3   7  11  ...           0.45           0.45           0.36\n",
            "3           P4  12   8  ...           0.35           0.29           0.35\n",
            "4           P5   8   5  ...           0.53           0.33           0.40\n",
            "\n",
            "[5 rows x 107 columns]\n"
          ],
          "name": "stdout"
        }
      ]
    },
    {
      "cell_type": "code",
      "metadata": {
        "colab": {
          "base_uri": "https://localhost:8080/",
          "height": 0
        },
        "id": "HMI7MeSrUfjz",
        "outputId": "23a20cbc-52e8-4e69-8db4-dccac36841d2"
      },
      "source": [
        "print(\"DataSet.colname()...\")\n",
        "data.colname()\n",
        "print(\"DataSet.colnum()...\")\n",
        "data.colnum()\n",
        "print(\"DataSet.rownum()...\")\n",
        "data.rownum()"
      ],
      "execution_count": 23,
      "outputs": [
        {
          "output_type": "stream",
          "text": [
            "DataSet.colname()...\n",
            "['Product_Code', 'W0', 'W1', 'W2', 'W3', 'W4', 'W5', 'W6', 'W7', 'W8', 'W9', 'W10', 'W11', 'W12', 'W13', 'W14', 'W15', 'W16', 'W17', 'W18', 'W19', 'W20', 'W21', 'W22', 'W23', 'W24', 'W25', 'W26', 'W27', 'W28', 'W29', 'W30', 'W31', 'W32', 'W33', 'W34', 'W35', 'W36', 'W37', 'W38', 'W39', 'W40', 'W41', 'W42', 'W43', 'W44', 'W45', 'W46', 'W47', 'W48', 'W49', 'W50', 'W51', 'MIN', 'MAX', 'Normalized 0', 'Normalized 1', 'Normalized 2', 'Normalized 3', 'Normalized 4', 'Normalized 5', 'Normalized 6', 'Normalized 7', 'Normalized 8', 'Normalized 9', 'Normalized 10', 'Normalized 11', 'Normalized 12', 'Normalized 13', 'Normalized 14', 'Normalized 15', 'Normalized 16', 'Normalized 17', 'Normalized 18', 'Normalized 19', 'Normalized 20', 'Normalized 21', 'Normalized 22', 'Normalized 23', 'Normalized 24', 'Normalized 25', 'Normalized 26', 'Normalized 27', 'Normalized 28', 'Normalized 29', 'Normalized 30', 'Normalized 31', 'Normalized 32', 'Normalized 33', 'Normalized 34', 'Normalized 35', 'Normalized 36', 'Normalized 37', 'Normalized 38', 'Normalized 39', 'Normalized 40', 'Normalized 41', 'Normalized 42', 'Normalized 43', 'Normalized 44', 'Normalized 45', 'Normalized 46', 'Normalized 47', 'Normalized 48', 'Normalized 49', 'Normalized 50', 'Normalized 51']\n",
            "DataSet.colnum()...\n",
            "107\n",
            "DataSet.rownum()...\n",
            "811\n"
          ],
          "name": "stdout"
        }
      ]
    },
    {
      "cell_type": "code",
      "metadata": {
        "id": "wAq2LEURcYwy"
      },
      "source": [
        "data._load() # test error "
      ],
      "execution_count": null,
      "outputs": []
    },
    {
      "cell_type": "code",
      "metadata": {
        "colab": {
          "base_uri": "https://localhost:8080/",
          "height": 0
        },
        "id": "AvL8LI4rUh4e",
        "outputId": "7d96af86-6345-43c0-fcb3-3ce12bfe409d"
      },
      "source": [
        "data._load()\n",
        "print(\"DataSet.clean()...\")\n",
        "data.clean()\n",
        "print(\"DataSet.explore()...\")\n",
        "data.explore()"
      ],
      "execution_count": 25,
      "outputs": [
        {
          "output_type": "stream",
          "text": [
            "input your dataset type and get instruction of each type\n",
            "                           \n",
            "type of data set (quantitative/qualitative/timeseries/textdata):quantitative\n",
            "Call QuantDataSet() for quantitative data.\n",
            "                  \n",
            "Including\n",
            "                  \n",
            "clean() -- fill in missing values with the mean\n",
            "                  \n",
            "explore() -- create hist or scatter plots \n",
            "Default: explore(plot_type, column1, column2=None)\n",
            "                  \n",
            "mean() -- get the mean of certain quantitative column \n",
            "Default: mean(column_name)\n",
            "                  \n",
            "median() -- get the median of certain quantitative column \n",
            "Default: median(column_name_median)\n",
            "                  \n",
            "mode() -- get the mode of certain quantitative column \n",
            "Default: mode(column_name_mode)\n",
            "                  \n",
            "order() -- present certain quantitative column by specific order \n",
            "Default: order(column_name_order) \n",
            "\n",
            "                  \n",
            "DataSet.clean()...\n",
            "please call: QuantDataSet(filename).clean() \n",
            "\n",
            "DataSet.explore()...\n",
            "please call: QuantDataSet(filename).explore() \n",
            "Default: explore(plot_type, column1, column2=None) \n",
            "\n"
          ],
          "name": "stdout"
        }
      ]
    },
    {
      "cell_type": "code",
      "metadata": {
        "colab": {
          "base_uri": "https://localhost:8080/"
        },
        "id": "GmCUq6HmZxU4",
        "outputId": "6866743d-92ad-440b-b335-9ea9b7168517"
      },
      "source": [
        "print(\"DataSet.getcol()...\")\n",
        "data.getcol(\"W0\")"
      ],
      "execution_count": 35,
      "outputs": [
        {
          "output_type": "stream",
          "text": [
            "DataSet.getcol()...\n",
            "0      11\n",
            "1       7\n",
            "       ..\n",
            "809     0\n",
            "810     0\n",
            "Name: W0, Length: 811, dtype: int64\n"
          ],
          "name": "stdout"
        }
      ]
    },
    {
      "cell_type": "code",
      "metadata": {
        "colab": {
          "base_uri": "https://localhost:8080/"
        },
        "id": "2QSSCET6ZxX3",
        "outputId": "7b3ed6f7-dd26-47f3-86c8-9e052fbf7b34"
      },
      "source": [
        "print(\"DataSet.__getitem__()...\")\n",
        "data[3, 2]"
      ],
      "execution_count": 28,
      "outputs": [
        {
          "output_type": "stream",
          "text": [
            "DataSet.__getitem__()...\n",
            "8\n"
          ],
          "name": "stdout"
        }
      ]
    },
    {
      "cell_type": "markdown",
      "metadata": {
        "id": "MoJL0c7fcqPK"
      },
      "source": [
        "# Test SubClass: **TimeSeriesDataSetTests**\n"
      ]
    },
    {
      "cell_type": "code",
      "metadata": {
        "colab": {
          "base_uri": "https://localhost:8080/"
        },
        "id": "9rBt9sGEZxbA",
        "outputId": "2211593d-6fd2-4068-cbe2-1e6ce22a6e86"
      },
      "source": [
        "df_ts = TimeSeriesDataSet(\"Time_data.csv\")\n",
        "\n",
        "print(\"colname():\")\n",
        "df_ts.colname()\n",
        "print(\"colnum():\")\n",
        "df_ts.colnum()\n",
        "print(\"rownum():\")\n",
        "df_ts.rownum()\n",
        "print(\"getcol():\")\n",
        "df_ts.getcol(\"AllHomesPrice\")\n",
        "print(\"__getitem__():\")\n",
        "df_ts[3, 5]"
      ],
      "execution_count": 36,
      "outputs": [
        {
          "output_type": "stream",
          "text": [
            "colname():\n",
            "['Date', 'AllHomesPrice', '1BedroomPrice', '2BedroomPrice', '3orMorePrice', 'SingleFamilyPrice', 'Inventory', 'RentalPrice', 'SaleCounts']\n",
            "colnum():\n",
            "9\n",
            "rownum():\n",
            "96\n",
            "getcol():\n",
            "0     133.247118\n",
            "1     132.922818\n",
            "         ...    \n",
            "94    159.678817\n",
            "95    158.691567\n",
            "Name: AllHomesPrice, Length: 96, dtype: float64\n",
            "__getitem__():\n",
            "130.5071144\n"
          ],
          "name": "stdout"
        }
      ]
    },
    {
      "cell_type": "code",
      "metadata": {
        "colab": {
          "base_uri": "https://localhost:8080/",
          "height": 250
        },
        "id": "T3KADH4jZxe-",
        "outputId": "843f35e8-9779-422e-c9b7-3ba4ee4304a1"
      },
      "source": [
        "print(\"clean(): (only presents 2 lines of result)\")\n",
        "df_ts.clean([\"AllHomesPrice\"],filter_size = 7)\n",
        "df_temp"
      ],
      "execution_count": 37,
      "outputs": [
        {
          "output_type": "stream",
          "text": [
            "clean(): (only presents 2 lines of result)\n"
          ],
          "name": "stdout"
        },
        {
          "output_type": "execute_result",
          "data": {
            "text/html": [
              "<div>\n",
              "<style scoped>\n",
              "    .dataframe tbody tr th:only-of-type {\n",
              "        vertical-align: middle;\n",
              "    }\n",
              "\n",
              "    .dataframe tbody tr th {\n",
              "        vertical-align: top;\n",
              "    }\n",
              "\n",
              "    .dataframe thead th {\n",
              "        text-align: right;\n",
              "    }\n",
              "</style>\n",
              "<table border=\"1\" class=\"dataframe\">\n",
              "  <thead>\n",
              "    <tr style=\"text-align: right;\">\n",
              "      <th></th>\n",
              "      <th>cleaned_AllHomesPrice</th>\n",
              "    </tr>\n",
              "  </thead>\n",
              "  <tbody>\n",
              "    <tr>\n",
              "      <th>0</th>\n",
              "      <td>133.026052</td>\n",
              "    </tr>\n",
              "    <tr>\n",
              "      <th>1</th>\n",
              "      <td>132.941603</td>\n",
              "    </tr>\n",
              "    <tr>\n",
              "      <th>...</th>\n",
              "      <td>...</td>\n",
              "    </tr>\n",
              "    <tr>\n",
              "      <th>94</th>\n",
              "      <td>159.185192</td>\n",
              "    </tr>\n",
              "    <tr>\n",
              "      <th>95</th>\n",
              "      <td>158.691567</td>\n",
              "    </tr>\n",
              "  </tbody>\n",
              "</table>\n",
              "<p>96 rows × 1 columns</p>\n",
              "</div>"
            ],
            "text/plain": [
              "    cleaned_AllHomesPrice\n",
              "0              133.026052\n",
              "1              132.941603\n",
              "..                    ...\n",
              "94             159.185192\n",
              "95             158.691567\n",
              "\n",
              "[96 rows x 1 columns]"
            ]
          },
          "metadata": {
            "tags": []
          },
          "execution_count": 37
        }
      ]
    },
    {
      "cell_type": "code",
      "metadata": {
        "id": "-BWvvZRLkVME"
      },
      "source": [
        "### test error raised \n",
        "# df_ts.clean([\"wrongcol\"],filter_size = 7)\n",
        "# df_ts.clean([\"AllHomesPrice\"],filter_size = \"s\")\n",
        "# df_ts.clean(\"wrong, col\",filter_size = \"s\")"
      ],
      "execution_count": null,
      "outputs": []
    },
    {
      "cell_type": "code",
      "metadata": {
        "colab": {
          "base_uri": "https://localhost:8080/",
          "height": 233
        },
        "id": "tqHmvuO0ZxiA",
        "outputId": "2132d566-107e-4f0a-d7bc-3d64b48a7dc1"
      },
      "source": [
        "df_ts.transformation([\"AllHomesPrice\"],method=\"log\")"
      ],
      "execution_count": 38,
      "outputs": [
        {
          "output_type": "execute_result",
          "data": {
            "text/html": [
              "<div>\n",
              "<style scoped>\n",
              "    .dataframe tbody tr th:only-of-type {\n",
              "        vertical-align: middle;\n",
              "    }\n",
              "\n",
              "    .dataframe tbody tr th {\n",
              "        vertical-align: top;\n",
              "    }\n",
              "\n",
              "    .dataframe thead th {\n",
              "        text-align: right;\n",
              "    }\n",
              "</style>\n",
              "<table border=\"1\" class=\"dataframe\">\n",
              "  <thead>\n",
              "    <tr style=\"text-align: right;\">\n",
              "      <th></th>\n",
              "      <th>logged_AllHomesPrice</th>\n",
              "    </tr>\n",
              "  </thead>\n",
              "  <tbody>\n",
              "    <tr>\n",
              "      <th>0</th>\n",
              "      <td>4.892205</td>\n",
              "    </tr>\n",
              "    <tr>\n",
              "      <th>1</th>\n",
              "      <td>4.889769</td>\n",
              "    </tr>\n",
              "    <tr>\n",
              "      <th>...</th>\n",
              "      <td>...</td>\n",
              "    </tr>\n",
              "    <tr>\n",
              "      <th>94</th>\n",
              "      <td>5.073164</td>\n",
              "    </tr>\n",
              "    <tr>\n",
              "      <th>95</th>\n",
              "      <td>5.066962</td>\n",
              "    </tr>\n",
              "  </tbody>\n",
              "</table>\n",
              "<p>96 rows × 1 columns</p>\n",
              "</div>"
            ],
            "text/plain": [
              "    logged_AllHomesPrice\n",
              "0               4.892205\n",
              "1               4.889769\n",
              "..                   ...\n",
              "94              5.073164\n",
              "95              5.066962\n",
              "\n",
              "[96 rows x 1 columns]"
            ]
          },
          "metadata": {
            "tags": []
          },
          "execution_count": 38
        }
      ]
    },
    {
      "cell_type": "code",
      "metadata": {
        "colab": {
          "base_uri": "https://localhost:8080/",
          "height": 233
        },
        "id": "Zsaqz5r6l636",
        "outputId": "8ad7f563-a645-4306-a292-dc6a1aa3522e"
      },
      "source": [
        "df_ts.transformation([\"AllHomesPrice\"],method=\"power\")"
      ],
      "execution_count": 44,
      "outputs": [
        {
          "output_type": "execute_result",
          "data": {
            "text/html": [
              "<div>\n",
              "<style scoped>\n",
              "    .dataframe tbody tr th:only-of-type {\n",
              "        vertical-align: middle;\n",
              "    }\n",
              "\n",
              "    .dataframe tbody tr th {\n",
              "        vertical-align: top;\n",
              "    }\n",
              "\n",
              "    .dataframe thead th {\n",
              "        text-align: right;\n",
              "    }\n",
              "</style>\n",
              "<table border=\"1\" class=\"dataframe\">\n",
              "  <thead>\n",
              "    <tr style=\"text-align: right;\">\n",
              "      <th></th>\n",
              "      <th>powered_AllHomesPrice</th>\n",
              "    </tr>\n",
              "  </thead>\n",
              "  <tbody>\n",
              "    <tr>\n",
              "      <th>0</th>\n",
              "      <td>11.543272</td>\n",
              "    </tr>\n",
              "    <tr>\n",
              "      <th>1</th>\n",
              "      <td>11.529216</td>\n",
              "    </tr>\n",
              "    <tr>\n",
              "      <th>...</th>\n",
              "      <td>...</td>\n",
              "    </tr>\n",
              "    <tr>\n",
              "      <th>94</th>\n",
              "      <td>12.636408</td>\n",
              "    </tr>\n",
              "    <tr>\n",
              "      <th>95</th>\n",
              "      <td>12.597284</td>\n",
              "    </tr>\n",
              "  </tbody>\n",
              "</table>\n",
              "<p>96 rows × 1 columns</p>\n",
              "</div>"
            ],
            "text/plain": [
              "    powered_AllHomesPrice\n",
              "0               11.543272\n",
              "1               11.529216\n",
              "..                    ...\n",
              "94              12.636408\n",
              "95              12.597284\n",
              "\n",
              "[96 rows x 1 columns]"
            ]
          },
          "metadata": {
            "tags": []
          },
          "execution_count": 44
        }
      ]
    },
    {
      "cell_type": "code",
      "metadata": {
        "id": "0hMUTExJk_Ae"
      },
      "source": [
        "### test error raised \n",
        "# df_ts.transformation([\"AllHomesPrice\"],method=\"wrong methods\")\n",
        "# df_ts.transformation([\"wrongcol\"],method=\"log\")\n",
        "# df_ts.transformation(\"wrong, col\",method=\"log\")\n",
        "# df_ts.transformation([\"AllHomesPrice\"],method=\"power\",power=\"wrongpower\")"
      ],
      "execution_count": null,
      "outputs": []
    },
    {
      "cell_type": "code",
      "metadata": {
        "colab": {
          "base_uri": "https://localhost:8080/",
          "height": 233
        },
        "id": "zvT5M1GZlKvj",
        "outputId": "e356b4f8-774e-470d-e88f-97ca26efa57c"
      },
      "source": [
        "df_ts.differencing([\"AllHomesPrice\"],differences = 1)"
      ],
      "execution_count": 39,
      "outputs": [
        {
          "output_type": "execute_result",
          "data": {
            "text/html": [
              "<div>\n",
              "<style scoped>\n",
              "    .dataframe tbody tr th:only-of-type {\n",
              "        vertical-align: middle;\n",
              "    }\n",
              "\n",
              "    .dataframe tbody tr th {\n",
              "        vertical-align: top;\n",
              "    }\n",
              "\n",
              "    .dataframe thead th {\n",
              "        text-align: right;\n",
              "    }\n",
              "</style>\n",
              "<table border=\"1\" class=\"dataframe\">\n",
              "  <thead>\n",
              "    <tr style=\"text-align: right;\">\n",
              "      <th></th>\n",
              "      <th>diffed_AllHomesPrice</th>\n",
              "    </tr>\n",
              "  </thead>\n",
              "  <tbody>\n",
              "    <tr>\n",
              "      <th>0</th>\n",
              "      <td>NaN</td>\n",
              "    </tr>\n",
              "    <tr>\n",
              "      <th>1</th>\n",
              "      <td>-0.324301</td>\n",
              "    </tr>\n",
              "    <tr>\n",
              "      <th>...</th>\n",
              "      <td>...</td>\n",
              "    </tr>\n",
              "    <tr>\n",
              "      <th>94</th>\n",
              "      <td>-0.277458</td>\n",
              "    </tr>\n",
              "    <tr>\n",
              "      <th>95</th>\n",
              "      <td>-0.987251</td>\n",
              "    </tr>\n",
              "  </tbody>\n",
              "</table>\n",
              "<p>96 rows × 1 columns</p>\n",
              "</div>"
            ],
            "text/plain": [
              "    diffed_AllHomesPrice\n",
              "0                    NaN\n",
              "1              -0.324301\n",
              "..                   ...\n",
              "94             -0.277458\n",
              "95             -0.987251\n",
              "\n",
              "[96 rows x 1 columns]"
            ]
          },
          "metadata": {
            "tags": []
          },
          "execution_count": 39
        }
      ]
    },
    {
      "cell_type": "code",
      "metadata": {
        "id": "92X2tpmtlXqE"
      },
      "source": [
        "### test error raised \n",
        "# df_ts.differencing([\"wrongcol\"],differences=1)\n",
        "# df_ts.differencing(\"wrong, col\",differences=1)\n",
        "# df_ts.differencing([\"AllHomesPrice\"],differences=\"wrongdiff\")"
      ],
      "execution_count": null,
      "outputs": []
    },
    {
      "cell_type": "code",
      "metadata": {
        "colab": {
          "base_uri": "https://localhost:8080/",
          "height": 233
        },
        "id": "1h1kPcyrlaDJ",
        "outputId": "b6b6714b-b862-4098-8c12-0d60b22b09cf"
      },
      "source": [
        "df_ts.movingaverage([\"AllHomesPrice\"],window = 1)"
      ],
      "execution_count": 40,
      "outputs": [
        {
          "output_type": "execute_result",
          "data": {
            "text/html": [
              "<div>\n",
              "<style scoped>\n",
              "    .dataframe tbody tr th:only-of-type {\n",
              "        vertical-align: middle;\n",
              "    }\n",
              "\n",
              "    .dataframe tbody tr th {\n",
              "        vertical-align: top;\n",
              "    }\n",
              "\n",
              "    .dataframe thead th {\n",
              "        text-align: right;\n",
              "    }\n",
              "</style>\n",
              "<table border=\"1\" class=\"dataframe\">\n",
              "  <thead>\n",
              "    <tr style=\"text-align: right;\">\n",
              "      <th></th>\n",
              "      <th>moving_AllHomesPrice</th>\n",
              "    </tr>\n",
              "  </thead>\n",
              "  <tbody>\n",
              "    <tr>\n",
              "      <th>0</th>\n",
              "      <td>133.247118</td>\n",
              "    </tr>\n",
              "    <tr>\n",
              "      <th>1</th>\n",
              "      <td>132.922818</td>\n",
              "    </tr>\n",
              "    <tr>\n",
              "      <th>...</th>\n",
              "      <td>...</td>\n",
              "    </tr>\n",
              "    <tr>\n",
              "      <th>94</th>\n",
              "      <td>159.678817</td>\n",
              "    </tr>\n",
              "    <tr>\n",
              "      <th>95</th>\n",
              "      <td>158.691567</td>\n",
              "    </tr>\n",
              "  </tbody>\n",
              "</table>\n",
              "<p>96 rows × 1 columns</p>\n",
              "</div>"
            ],
            "text/plain": [
              "    moving_AllHomesPrice\n",
              "0             133.247118\n",
              "1             132.922818\n",
              "..                   ...\n",
              "94            159.678817\n",
              "95            158.691567\n",
              "\n",
              "[96 rows x 1 columns]"
            ]
          },
          "metadata": {
            "tags": []
          },
          "execution_count": 40
        }
      ]
    },
    {
      "cell_type": "code",
      "metadata": {
        "id": "vJHVCu-KldwN"
      },
      "source": [
        "### test error raised \n",
        "# df_ts.movingaverage([\"wrongcol\"],window=1)\n",
        "# df_ts.movingaverage(\"wrong, col\",window=1)\n",
        "# df_ts.movingaverage([\"AllHomesPrice\"],window=\"wrongwindow\") "
      ],
      "execution_count": null,
      "outputs": []
    },
    {
      "cell_type": "code",
      "metadata": {
        "colab": {
          "base_uri": "https://localhost:8080/",
          "height": 253
        },
        "id": "XbL5kHZIliTs",
        "outputId": "7c625025-73a4-435f-d80d-53fe9fa6f157"
      },
      "source": [
        "df_ts.get_dataframe()"
      ],
      "execution_count": 41,
      "outputs": [
        {
          "output_type": "execute_result",
          "data": {
            "text/html": [
              "<div>\n",
              "<style scoped>\n",
              "    .dataframe tbody tr th:only-of-type {\n",
              "        vertical-align: middle;\n",
              "    }\n",
              "\n",
              "    .dataframe tbody tr th {\n",
              "        vertical-align: top;\n",
              "    }\n",
              "\n",
              "    .dataframe thead th {\n",
              "        text-align: right;\n",
              "    }\n",
              "</style>\n",
              "<table border=\"1\" class=\"dataframe\">\n",
              "  <thead>\n",
              "    <tr style=\"text-align: right;\">\n",
              "      <th></th>\n",
              "      <th>Date</th>\n",
              "      <th>AllHomesPrice</th>\n",
              "      <th>1BedroomPrice</th>\n",
              "      <th>2BedroomPrice</th>\n",
              "      <th>3orMorePrice</th>\n",
              "      <th>SingleFamilyPrice</th>\n",
              "      <th>Inventory</th>\n",
              "      <th>RentalPrice</th>\n",
              "      <th>SaleCounts</th>\n",
              "      <th>cleaned_AllHomesPrice</th>\n",
              "      <th>logged_AllHomesPrice</th>\n",
              "      <th>diffed_AllHomesPrice</th>\n",
              "      <th>moving_AllHomesPrice</th>\n",
              "    </tr>\n",
              "  </thead>\n",
              "  <tbody>\n",
              "    <tr>\n",
              "      <th>0</th>\n",
              "      <td>1/31/10</td>\n",
              "      <td>133.247118</td>\n",
              "      <td>192.473626</td>\n",
              "      <td>134.008621</td>\n",
              "      <td>128.049304</td>\n",
              "      <td>130.461533</td>\n",
              "      <td>37540.86275</td>\n",
              "      <td>1195.625000</td>\n",
              "      <td>4372.666667</td>\n",
              "      <td>133.026052</td>\n",
              "      <td>4.892205</td>\n",
              "      <td>NaN</td>\n",
              "      <td>133.247118</td>\n",
              "    </tr>\n",
              "    <tr>\n",
              "      <th>1</th>\n",
              "      <td>2/28/10</td>\n",
              "      <td>132.922818</td>\n",
              "      <td>191.241276</td>\n",
              "      <td>133.422100</td>\n",
              "      <td>127.351250</td>\n",
              "      <td>130.153906</td>\n",
              "      <td>38329.96078</td>\n",
              "      <td>1278.593750</td>\n",
              "      <td>4376.844444</td>\n",
              "      <td>132.941603</td>\n",
              "      <td>4.889769</td>\n",
              "      <td>-0.324301</td>\n",
              "      <td>132.922818</td>\n",
              "    </tr>\n",
              "    <tr>\n",
              "      <th>...</th>\n",
              "      <td>...</td>\n",
              "      <td>...</td>\n",
              "      <td>...</td>\n",
              "      <td>...</td>\n",
              "      <td>...</td>\n",
              "      <td>...</td>\n",
              "      <td>...</td>\n",
              "      <td>...</td>\n",
              "      <td>...</td>\n",
              "      <td>...</td>\n",
              "      <td>...</td>\n",
              "      <td>...</td>\n",
              "      <td>...</td>\n",
              "    </tr>\n",
              "    <tr>\n",
              "      <th>94</th>\n",
              "      <td>11/30/17</td>\n",
              "      <td>159.678817</td>\n",
              "      <td>205.974424</td>\n",
              "      <td>160.688736</td>\n",
              "      <td>157.753252</td>\n",
              "      <td>155.605476</td>\n",
              "      <td>24890.25490</td>\n",
              "      <td>1471.438776</td>\n",
              "      <td>7995.825000</td>\n",
              "      <td>159.185192</td>\n",
              "      <td>5.073164</td>\n",
              "      <td>-0.277458</td>\n",
              "      <td>159.678817</td>\n",
              "    </tr>\n",
              "    <tr>\n",
              "      <th>95</th>\n",
              "      <td>12/31/17</td>\n",
              "      <td>158.691567</td>\n",
              "      <td>204.619404</td>\n",
              "      <td>159.390037</td>\n",
              "      <td>156.694685</td>\n",
              "      <td>154.564245</td>\n",
              "      <td>22957.50980</td>\n",
              "      <td>1471.755102</td>\n",
              "      <td>11012.500000</td>\n",
              "      <td>158.691567</td>\n",
              "      <td>5.066962</td>\n",
              "      <td>-0.987251</td>\n",
              "      <td>158.691567</td>\n",
              "    </tr>\n",
              "  </tbody>\n",
              "</table>\n",
              "<p>96 rows × 13 columns</p>\n",
              "</div>"
            ],
            "text/plain": [
              "        Date  AllHomesPrice  ...  diffed_AllHomesPrice  moving_AllHomesPrice\n",
              "0    1/31/10     133.247118  ...                   NaN            133.247118\n",
              "1    2/28/10     132.922818  ...             -0.324301            132.922818\n",
              "..       ...            ...  ...                   ...                   ...\n",
              "94  11/30/17     159.678817  ...             -0.277458            159.678817\n",
              "95  12/31/17     158.691567  ...             -0.987251            158.691567\n",
              "\n",
              "[96 rows x 13 columns]"
            ]
          },
          "metadata": {
            "tags": []
          },
          "execution_count": 41
        }
      ]
    },
    {
      "cell_type": "code",
      "metadata": {
        "colab": {
          "base_uri": "https://localhost:8080/"
        },
        "id": "fv9a7SOalreA",
        "outputId": "3983db37-ba0d-45ec-bbec-0395658ca3a2"
      },
      "source": [
        "df_ts.colname()"
      ],
      "execution_count": 42,
      "outputs": [
        {
          "output_type": "stream",
          "text": [
            "['Date', 'AllHomesPrice', '1BedroomPrice', '2BedroomPrice', '3orMorePrice', 'SingleFamilyPrice', 'Inventory', 'RentalPrice', 'SaleCounts', 'cleaned_AllHomesPrice', 'logged_AllHomesPrice', 'diffed_AllHomesPrice', 'moving_AllHomesPrice']\n"
          ],
          "name": "stdout"
        }
      ]
    },
    {
      "cell_type": "code",
      "metadata": {
        "colab": {
          "base_uri": "https://localhost:8080/",
          "height": 350
        },
        "id": "CJNbcMP2lv-S",
        "outputId": "f906f606-e191-42af-a0a5-a285ce095fb9"
      },
      "source": [
        "df_ts.explore(tsColnameList=[\"AllHomesPrice\",  'cleaned_AllHomesPrice', 'logged_AllHomesPrice',\n",
        "                                 'powered_AllHomesPrice', 'diffed_AllHomesPrice'],\n",
        "                  date_colname=\"Date\",lag=2,vis_type=\"ts\")"
      ],
      "execution_count": 46,
      "outputs": [
        {
          "output_type": "display_data",
          "data": {
            "image/png": "[encoded data removed]",
            "text/plain": [
              "<Figure size 720x360 with 1 Axes>"
            ]
          },
          "metadata": {
            "tags": [],
            "needs_background": "light"
          }
        }
      ]
    },
    {
      "cell_type": "code",
      "metadata": {
        "id": "68rFpzBKmKuQ"
      },
      "source": [
        "### test error raised \n",
        "# df_ts.explore([\"wrongcol\"],date_colname=\"start_date\",vis_type=\"ts\")\n",
        "# df_ts.explore(\"wrong, col\",date_colname=\"start_date\",vis_type=\"ts\")\n",
        "# df_ts.explore([\"AllHomesPrice\"],date_colname=\"wrongdatacol\",vis_type=\"ts\")\n",
        "# df_ts.explore([\"AllHomesPrice\"],vis_type=\"ts\")\n",
        "# df_ts.explore([\"AllHomesPrice\"],date_colname=\"Date\",vis_type=\"wrongtype\")"
      ],
      "execution_count": null,
      "outputs": []
    },
    {
      "cell_type": "code",
      "metadata": {
        "colab": {
          "base_uri": "https://localhost:8080/",
          "height": 693
        },
        "id": "SFQlS-bumPAC",
        "outputId": "b488afb9-a31c-4658-a72e-90ebf8da4c3a"
      },
      "source": [
        " df_ts.explore(tsColnameList=[\"AllHomesPrice\",  'cleaned_AllHomesPrice'],lag=2,vis_type=\"lag\")"
      ],
      "execution_count": 47,
      "outputs": [
        {
          "output_type": "display_data",
          "data": {
            "image/png": "[encoded data removed]",
            "text/plain": [
              "<Figure size 720x360 with 1 Axes>"
            ]
          },
          "metadata": {
            "tags": [],
            "needs_background": "light"
          }
        },
        {
          "output_type": "display_data",
          "data": {
            "image/png": "[encoded data removed]",
            "text/plain": [
              "<Figure size 720x360 with 1 Axes>"
            ]
          },
          "metadata": {
            "tags": [],
            "needs_background": "light"
          }
        }
      ]
    },
    {
      "cell_type": "code",
      "metadata": {
        "id": "zDc4E03xmggt"
      },
      "source": [
        "### test error raised \n",
        "# df_ts.explore([\"wrongcol\"],lag=2,vis_type=\"lag\")\n",
        "# df_ts.explore(\"wrong, col\",lag=2,vis_type=\"lag\")\n",
        "# df_ts.explore([\"wrongcol\"],lag='wrong lag',vis_type=\"lag\")\n",
        "# df_ts.explore([\"wrongcol\"],vis_type=\"lag\")"
      ],
      "execution_count": null,
      "outputs": []
    },
    {
      "cell_type": "code",
      "metadata": {
        "colab": {
          "base_uri": "https://localhost:8080/",
          "height": 688
        },
        "id": "Ja71R8okmaNY",
        "outputId": "0d27cd97-8cbf-4b70-bd34-a7cd3ebadbb4"
      },
      "source": [
        "df_ts.explore(tsColnameList=[\"AllHomesPrice\"], date_colname=\"Date\",lag=3,vis_type=\"all\")"
      ],
      "execution_count": 48,
      "outputs": [
        {
          "output_type": "display_data",
          "data": {
            "image/png": "[encoded data removed]",
            "text/plain": [
              "<Figure size 720x360 with 1 Axes>"
            ]
          },
          "metadata": {
            "tags": [],
            "needs_background": "light"
          }
        },
        {
          "output_type": "display_data",
          "data": {
            "image/png": "[encoded data removed]",
            "text/plain": [
              "<Figure size 720x360 with 1 Axes>"
            ]
          },
          "metadata": {
            "tags": [],
            "needs_background": "light"
          }
        }
      ]
    },
    {
      "cell_type": "code",
      "metadata": {
        "id": "TL3sWbOemk1l"
      },
      "source": [
        "### test error raised \n",
        "# df_ts.explore(tsColnameList=[\"wrongcol\"], date_colname=\"Date\",lag=2,vis_type=\"all\")\n",
        "# df_ts.explore(tsColnameList=[\"AllHomesPrice\"],lag=2,vis_type=\"all\")\n",
        "# df_ts.explore(tsColnameList=[\"AllHomesPrice\"],date_colname=\"Date\"lag='wrong lag',lag='wrong lag',vis_type=\"all\")"
      ],
      "execution_count": null,
      "outputs": []
    },
    {
      "cell_type": "code",
      "metadata": {
        "id": "vxGNn7naZxob"
      },
      "source": [
        ""
      ],
      "execution_count": null,
      "outputs": []
    },
    {
      "cell_type": "markdown",
      "metadata": {
        "id": "DLjUrn8inNCD"
      },
      "source": [
        "# TextDataSetTests"
      ]
    },
    {
      "cell_type": "code",
      "metadata": {
        "colab": {
          "base_uri": "https://localhost:8080/"
        },
        "id": "O5tig84_nR-d",
        "outputId": "d14f0fec-c22a-4c17-e2be-9518ad776053"
      },
      "source": [
        "yelp_df=TextDataSet(\"Text_data.csv\")\n",
        "yelp_df.head()"
      ],
      "execution_count": 49,
      "outputs": [
        {
          "output_type": "stream",
          "text": [
            "              business_id     date               review_id  ...  cool useful funny\n",
            "0  9yKzy9PApeiPPOUJEtnvkg  1/26/11  fWKvX83p0-ka4JS3dc6E5A  ...     2      5     0\n",
            "1  ZRJwVLyzEJq1VAihDhYiow  7/27/11  IjZ33sJrzXqU-0X6U8NwyA  ...     0      0     0\n",
            "2  6oRAC4uyJCsJl1X0WZpVSA  6/14/12  IESLBzqUCLdSzSqm0eCSxQ  ...     0      1     0\n",
            "3  _1QQZuf4zZOyFCvXc0o6Vg  5/27/10  G-WvGaISbqqaMHlNnByodA  ...     1      2     0\n",
            "4  6ozycU1RpktNG2-1BroVtw   1/5/12  1uJFq2r5QfJG_6ExMRCaGw  ...     0      0     0\n",
            "\n",
            "[5 rows x 10 columns]\n"
          ],
          "name": "stdout"
        }
      ]
    },
    {
      "cell_type": "code",
      "metadata": {
        "colab": {
          "base_uri": "https://localhost:8080/"
        },
        "id": "HX5lHPfdnZIX",
        "outputId": "97b275f0-4652-44aa-aabf-2618d14471df"
      },
      "source": [
        "yelp_df.head()\n",
        "print(\"colname():\")\n",
        "yelp_df.colname()\n",
        "print(\"colnum():\")\n",
        "yelp_df.colnum()\n",
        "print(\"rownum():\")\n",
        "yelp_df.rownum()\n",
        "print(\"getcol():\")\n",
        "yelp_df.getcol(\"text\")\n",
        "print(\"__getitem__():\")\n",
        "yelp_df[3,5]"
      ],
      "execution_count": 50,
      "outputs": [
        {
          "output_type": "stream",
          "text": [
            "              business_id     date               review_id  ...  cool useful funny\n",
            "0  9yKzy9PApeiPPOUJEtnvkg  1/26/11  fWKvX83p0-ka4JS3dc6E5A  ...     2      5     0\n",
            "1  ZRJwVLyzEJq1VAihDhYiow  7/27/11  IjZ33sJrzXqU-0X6U8NwyA  ...     0      0     0\n",
            "2  6oRAC4uyJCsJl1X0WZpVSA  6/14/12  IESLBzqUCLdSzSqm0eCSxQ  ...     0      1     0\n",
            "3  _1QQZuf4zZOyFCvXc0o6Vg  5/27/10  G-WvGaISbqqaMHlNnByodA  ...     1      2     0\n",
            "4  6ozycU1RpktNG2-1BroVtw   1/5/12  1uJFq2r5QfJG_6ExMRCaGw  ...     0      0     0\n",
            "\n",
            "[5 rows x 10 columns]\n",
            "colname():\n",
            "['business_id', 'date', 'review_id', 'stars', 'text', 'type', 'user_id', 'cool', 'useful', 'funny']\n",
            "colnum():\n",
            "10\n",
            "rownum():\n",
            "998\n",
            "getcol():\n",
            "0      My wife took me here on my birthday for breakf...\n",
            "1      I have no idea why some people give bad review...\n",
            "                             ...                        \n",
            "996    I love me some Dobson Ranch.  As far as munici...\n",
            "997    I don't know why i have been here more than on...\n",
            "Name: text, Length: 998, dtype: object\n",
            "__getitem__():\n",
            "review\n"
          ],
          "name": "stdout"
        }
      ]
    },
    {
      "cell_type": "code",
      "metadata": {
        "colab": {
          "base_uri": "https://localhost:8080/"
        },
        "id": "-UY4R38tniHy",
        "outputId": "5439bae7-754c-44b2-e432-eeae23f48482"
      },
      "source": [
        "clean_list = yelp_df.clean(colname=\"text\",lower=True, remove_diacritics=True, remove_punct=True, remove_stop=True, stem_tokens=True, lemmatize_tokens=True)\n",
        "print(clean_list[0])"
      ],
      "execution_count": 53,
      "outputs": [
        {
          "output_type": "stream",
          "text": [
            "['wife', 'took', 'birthday', 'breakfast', 'excel', 'weather', 'perfect', 'made', 'sit', 'outsid', 'overlook', 'ground', 'absolut', 'pleasur', 'waitress', 'excel', 'food', 'arriv', 'quickli', 'semi-busi', 'saturday', 'morn', 'look', 'like', 'place', 'fill', 'pretti', 'quickli', 'earlier', 'get', 'better', 'favor', 'get', 'bloodi', 'mari', 'phenomen', 'simpli', 'best', 'ever', 'pretti', 'sure', 'use', 'ingredi', 'garden', 'blend', 'fresh', 'order', 'amaz', 'everyth', 'menu', 'look', 'excel', 'white', 'truffl', 'scrambl', 'egg', 'veget', 'skillet', 'tasti', 'delici', 'came', '2', 'piec', 'griddl', 'bread', 'amaz', 'absolut', 'made', 'meal', 'complet', 'best', 'toast', 'ever', 'anyway', 'ca', 'wait', 'go', 'back']\n"
          ],
          "name": "stdout"
        }
      ]
    },
    {
      "cell_type": "code",
      "metadata": {
        "colab": {
          "base_uri": "https://localhost:8080/"
        },
        "id": "REm-jMIenxLz",
        "outputId": "7c4eba9d-e1f4-4a7b-a4d3-7903f5a96bc4"
      },
      "source": [
        "mylist=TextDataSet.token_list(nested_list=clean_list)\n",
        "mylist[0:10]"
      ],
      "execution_count": 55,
      "outputs": [
        {
          "output_type": "execute_result",
          "data": {
            "text/plain": [
              "['wife',\n",
              " 'took',\n",
              " 'birthday',\n",
              " 'breakfast',\n",
              " 'excel',\n",
              " 'weather',\n",
              " 'perfect',\n",
              " 'made',\n",
              " 'sit',\n",
              " 'outsid']"
            ]
          },
          "metadata": {
            "tags": []
          },
          "execution_count": 55
        }
      ]
    },
    {
      "cell_type": "code",
      "metadata": {
        "colab": {
          "base_uri": "https://localhost:8080/",
          "height": 198
        },
        "id": "fm6KYFC4n2Ii",
        "outputId": "c5d2bcbb-8ce3-46d9-b8ad-616b8f460d2f"
      },
      "source": [
        "TextDataSet.explore(token_list=mylist, wordcloud=True, dispersion=False)"
      ],
      "execution_count": 58,
      "outputs": [
        {
          "output_type": "display_data",
          "data": {
            "image/png": "[encoded data removed]",
            "text/plain": [
              "<Figure size 432x288 with 1 Axes>"
            ]
          },
          "metadata": {
            "tags": [],
            "needs_background": "light"
          }
        }
      ]
    },
    {
      "cell_type": "code",
      "metadata": {
        "colab": {
          "base_uri": "https://localhost:8080/",
          "height": 295
        },
        "id": "UwSR8ZTroAgb",
        "outputId": "d8e97357-b575-4218-c572-75b9c11e577b"
      },
      "source": [
        "TextDataSet.explore(token_list=mylist, wordcloud=False, dispersion=True)"
      ],
      "execution_count": 59,
      "outputs": [
        {
          "output_type": "display_data",
          "data": {
            "image/png": "[encoded data removed]",
            "text/plain": [
              "<Figure size 432x288 with 1 Axes>"
            ]
          },
          "metadata": {
            "tags": [],
            "needs_background": "light"
          }
        }
      ]
    },
    {
      "cell_type": "code",
      "metadata": {
        "id": "GDXBFBS9oc-B"
      },
      "source": [
        "#(\"TextDataSet.explore(token_list=2, wordcloud=True, dispersion=True):\")\n",
        "#TextDataSet.explore(token_list=2, wordcloud=True, dispersion=True)\n",
        "#TextDataSet.explore(token_list=mylist, wordcloud=False, dispersion=False)"
      ],
      "execution_count": null,
      "outputs": []
    },
    {
      "cell_type": "code",
      "metadata": {
        "colab": {
          "base_uri": "https://localhost:8080/"
        },
        "id": "9FxIAc_Zn-26",
        "outputId": "f461501e-b48c-4498-add7-09acbb4fbe5b"
      },
      "source": [
        "TextDataSet.wordfrequency(token_list=mylist,n=10,ascending= False)"
      ],
      "execution_count": 57,
      "outputs": [
        {
          "output_type": "stream",
          "text": [
            "     words  frequency\n",
            "23   place        710\n",
            "107   good        643\n",
            "..     ...        ...\n",
            "122    one        409\n",
            "42   order        348\n",
            "\n",
            "[10 rows x 2 columns]\n"
          ],
          "name": "stdout"
        }
      ]
    },
    {
      "cell_type": "code",
      "metadata": {
        "id": "8wEE3MH_ZwxR"
      },
      "source": [
        "#TextDataSet.wordfrequency(token_list=mylist,n=1.5,ascending= False)\n",
        "#TextDataSet.wordfrequency(token_list=2,n=10,ascending= False)"
      ],
      "execution_count": null,
      "outputs": []
    },
    {
      "cell_type": "markdown",
      "metadata": {
        "id": "buECmp-JoyMp"
      },
      "source": [
        "# QualDataSetTests"
      ]
    },
    {
      "cell_type": "code",
      "metadata": {
        "colab": {
          "base_uri": "https://localhost:8080/"
        },
        "id": "N3f0ZCIKo2dg",
        "outputId": "59964b17-1086-4a7c-ad1d-c8673a6f0a58"
      },
      "source": [
        "df_qual = QualDataSet(\"Qual_data.csv\")\n",
        "\n",
        "print(\"Check inheritence ...\")\n",
        "print(\"head():\")\n",
        "df_qual.head()\n",
        "print(\"colname():\")\n",
        "df_qual.colname()\n",
        "print(\"colnum():\")\n",
        "df_qual.colnum()\n",
        "print(\"rownum():\")\n",
        "df_qual.rownum()\n",
        "print(\"getcol():\")\n",
        "df_qual.getcol('What is your gender? - Selected Choice')\n",
        "print(\"__getitem__():\")\n",
        "df_qual[3,5]"
      ],
      "execution_count": 61,
      "outputs": [
        {
          "output_type": "stream",
          "text": [
            "Check inheritence ...\n",
            "head():\n",
            "   Duration (in seconds)  ... What is the size of the company where you are employed?\n",
            "0                    510  ...                               1000-9,999 employees     \n",
            "1                    423  ...                                 > 10,000 employees     \n",
            "2                     83  ...                                                NaN     \n",
            "3                    391  ...                                 > 10,000 employees     \n",
            "4                    392  ...                                     0-49 employees     \n",
            "\n",
            "[5 rows x 9 columns]\n",
            "colname():\n",
            "['Duration (in seconds)', 'What is your age (# years)?', 'What is your gender? - Selected Choice', 'What is your gender? - Prefer to self-describe - Text', 'In which country do you currently reside?', 'What is the highest level of formal education that you have attained or plan to attain within the next 2 years?', 'Select the title most similar to your current role (or most recent title if retired): - Selected Choice', 'Select the title most similar to your current role (or most recent title if retired): - Other - Text', 'What is the size of the company where you are employed?']\n",
            "colnum():\n",
            "9\n",
            "rownum():\n",
            "2018\n",
            "getcol():\n",
            "0         Male\n",
            "1         Male\n",
            "         ...  \n",
            "2016    Female\n",
            "2017      Male\n",
            "Name: What is your gender? - Selected Choice, Length: 2018, dtype: object\n",
            "__getitem__():\n",
            "Master__ degree\n"
          ],
          "name": "stdout"
        }
      ]
    },
    {
      "cell_type": "code",
      "metadata": {
        "colab": {
          "base_uri": "https://localhost:8080/"
        },
        "id": "aGtLIkb6pCbL",
        "outputId": "7b1cfccc-b7d0-4e28-8329-438b6fab5192"
      },
      "source": [
        "df_qual.clean()\n",
        "df_qual.head()"
      ],
      "execution_count": 63,
      "outputs": [
        {
          "output_type": "stream",
          "text": [
            "Cleaning finished, we have filled all the missing values with the mode of its column\n",
            "   Duration (in seconds)  ... What is the size of the company where you are employed?\n",
            "0                    510  ...                               1000-9,999 employees     \n",
            "1                    423  ...                                 > 10,000 employees     \n",
            "2                     83  ...                                     0-49 employees     \n",
            "3                    391  ...                                 > 10,000 employees     \n",
            "4                    392  ...                                     0-49 employees     \n",
            "\n",
            "[5 rows x 9 columns]\n"
          ],
          "name": "stdout"
        }
      ]
    },
    {
      "cell_type": "code",
      "metadata": {
        "colab": {
          "base_uri": "https://localhost:8080/",
          "height": 444
        },
        "id": "dWO7EtQvpV-O",
        "outputId": "29cc5371-8e7c-4686-c2ee-9113bc073a55"
      },
      "source": [
        "df_qual.explore(plot_type_qual=\"hist\",column_qual='What is your gender? - Selected Choice')"
      ],
      "execution_count": 64,
      "outputs": [
        {
          "output_type": "display_data",
          "data": {
            "image/png": "[encoded data removed]",
            "text/plain": [
              "<Figure size 640x480 with 1 Axes>"
            ]
          },
          "metadata": {
            "tags": [],
            "needs_background": "light"
          }
        }
      ]
    },
    {
      "cell_type": "code",
      "metadata": {
        "colab": {
          "base_uri": "https://localhost:8080/",
          "height": 264
        },
        "id": "biFS_6vEpaVo",
        "outputId": "adae7d4b-9aaf-444e-b359-52760683ae8c"
      },
      "source": [
        "df_qual.explore(plot_type_qual=\"pie\",column_qual='What is your gender? - Selected Choice')"
      ],
      "execution_count": 65,
      "outputs": [
        {
          "output_type": "display_data",
          "data": {
            "image/png": "[encoded data removed]",
            "text/plain": [
              "<Figure size 432x288 with 1 Axes>"
            ]
          },
          "metadata": {
            "tags": []
          }
        }
      ]
    },
    {
      "cell_type": "code",
      "metadata": {
        "id": "v_sZ8USOpd6e"
      },
      "source": [
        "# test the error situations\n",
        "# wrong plot type\n",
        "# df_qual.explore(plot_type_qual=\"scatter\",column_qual='What is your gender? - Selected Choice')\n",
        "# wrong column name\n",
        "# df_qual.explore(plot_type_qual=\"pie\",column_qual='abc')"
      ],
      "execution_count": null,
      "outputs": []
    },
    {
      "cell_type": "code",
      "metadata": {
        "colab": {
          "base_uri": "https://localhost:8080/"
        },
        "id": "5qorVaffpkk9",
        "outputId": "b4c2a4b3-2a40-4216-aa09-3ccdd120778c"
      },
      "source": [
        "df_qual.table(column_table='What is your gender? - Selected Choice')"
      ],
      "execution_count": 66,
      "outputs": [
        {
          "output_type": "execute_result",
          "data": {
            "text/plain": [
              "{'Female': 335,\n",
              " 'Male': 1652,\n",
              " 'Prefer not to say': 24,\n",
              " 'Prefer to self-describe': 7}"
            ]
          },
          "metadata": {
            "tags": []
          },
          "execution_count": 66
        }
      ]
    },
    {
      "cell_type": "markdown",
      "metadata": {
        "id": "0O7-1nIBpn58"
      },
      "source": [
        "# QuantDataSetTests"
      ]
    },
    {
      "cell_type": "code",
      "metadata": {
        "colab": {
          "base_uri": "https://localhost:8080/"
        },
        "id": "nvshij4_pqEr",
        "outputId": "6b9e2748-ed54-4081-df76-3f5be94c54bb"
      },
      "source": [
        "df_quant = QuantDataSet(\"Quant_data.csv\")\n",
        "\n",
        "print(\"head():\")\n",
        "df_quant.head()\n",
        "print(\"colname():\")\n",
        "df_quant.colname()\n",
        "print(\"colnum():\")\n",
        "df_quant.colnum()\n",
        "print(\"rownum():\")\n",
        "df_quant.rownum()\n",
        "print(\"getcol():\")\n",
        "df_quant.getcol(\"W0\")\n",
        "print(\"__getitem__():\")\n",
        "df_quant[3, 5]"
      ],
      "execution_count": 67,
      "outputs": [
        {
          "output_type": "stream",
          "text": [
            "head():\n",
            "  Product_Code  W0  W1  ...  Normalized 49  Normalized 50  Normalized 51\n",
            "0           P1  11  12  ...           0.17           0.11           0.39\n",
            "1           P2   7   6  ...           0.10           0.60           0.00\n",
            "2           P3   7  11  ...           0.45           0.45           0.36\n",
            "3           P4  12   8  ...           0.35           0.29           0.35\n",
            "4           P5   8   5  ...           0.53           0.33           0.40\n",
            "\n",
            "[5 rows x 107 columns]\n",
            "colname():\n",
            "['Product_Code', 'W0', 'W1', 'W2', 'W3', 'W4', 'W5', 'W6', 'W7', 'W8', 'W9', 'W10', 'W11', 'W12', 'W13', 'W14', 'W15', 'W16', 'W17', 'W18', 'W19', 'W20', 'W21', 'W22', 'W23', 'W24', 'W25', 'W26', 'W27', 'W28', 'W29', 'W30', 'W31', 'W32', 'W33', 'W34', 'W35', 'W36', 'W37', 'W38', 'W39', 'W40', 'W41', 'W42', 'W43', 'W44', 'W45', 'W46', 'W47', 'W48', 'W49', 'W50', 'W51', 'MIN', 'MAX', 'Normalized 0', 'Normalized 1', 'Normalized 2', 'Normalized 3', 'Normalized 4', 'Normalized 5', 'Normalized 6', 'Normalized 7', 'Normalized 8', 'Normalized 9', 'Normalized 10', 'Normalized 11', 'Normalized 12', 'Normalized 13', 'Normalized 14', 'Normalized 15', 'Normalized 16', 'Normalized 17', 'Normalized 18', 'Normalized 19', 'Normalized 20', 'Normalized 21', 'Normalized 22', 'Normalized 23', 'Normalized 24', 'Normalized 25', 'Normalized 26', 'Normalized 27', 'Normalized 28', 'Normalized 29', 'Normalized 30', 'Normalized 31', 'Normalized 32', 'Normalized 33', 'Normalized 34', 'Normalized 35', 'Normalized 36', 'Normalized 37', 'Normalized 38', 'Normalized 39', 'Normalized 40', 'Normalized 41', 'Normalized 42', 'Normalized 43', 'Normalized 44', 'Normalized 45', 'Normalized 46', 'Normalized 47', 'Normalized 48', 'Normalized 49', 'Normalized 50', 'Normalized 51']\n",
            "colnum():\n",
            "107\n",
            "rownum():\n",
            "811\n",
            "getcol():\n",
            "0      11\n",
            "1       7\n",
            "       ..\n",
            "809     0\n",
            "810     0\n",
            "Name: W0, Length: 811, dtype: int64\n",
            "__getitem__():\n",
            "9\n"
          ],
          "name": "stdout"
        }
      ]
    },
    {
      "cell_type": "code",
      "metadata": {
        "colab": {
          "base_uri": "https://localhost:8080/"
        },
        "id": "OtS5Sl7ApvBd",
        "outputId": "7fd69893-ed01-4a67-9df5-f7471a6acc55"
      },
      "source": [
        "df_quant.clean()"
      ],
      "execution_count": 69,
      "outputs": [
        {
          "output_type": "stream",
          "text": [
            "Cleaning finished, we have filled all the missing values with the mean of its column\n"
          ],
          "name": "stdout"
        }
      ]
    },
    {
      "cell_type": "code",
      "metadata": {
        "colab": {
          "base_uri": "https://localhost:8080/",
          "height": 444
        },
        "id": "CLdsZA9Dp4O-",
        "outputId": "e70356ce-79ce-4e13-9749-1a0c3ebee263"
      },
      "source": [
        "df_quant.explore(plot_type=\"hist\",column1=\"W0\")"
      ],
      "execution_count": 70,
      "outputs": [
        {
          "output_type": "display_data",
          "data": {
            "image/png": "[encoded data removed]",
            "text/plain": [
              "<Figure size 640x480 with 1 Axes>"
            ]
          },
          "metadata": {
            "tags": [],
            "needs_background": "light"
          }
        }
      ]
    },
    {
      "cell_type": "code",
      "metadata": {
        "colab": {
          "base_uri": "https://localhost:8080/",
          "height": 444
        },
        "id": "WEQwJXPYp6xI",
        "outputId": "e5c65f31-9fb0-4662-d818-45644fa7f8ce"
      },
      "source": [
        "df_quant.explore(plot_type=\"scatter\",column1=\"W0\",column2=\"W1\")"
      ],
      "execution_count": 71,
      "outputs": [
        {
          "output_type": "display_data",
          "data": {
            "image/png": "[encoded data removed]",
            "text/plain": [
              "<Figure size 640x480 with 1 Axes>"
            ]
          },
          "metadata": {
            "tags": [],
            "needs_background": "light"
          }
        }
      ]
    },
    {
      "cell_type": "code",
      "metadata": {
        "id": "8Ko1Nh6bqA_-"
      },
      "source": [
        "# test the error situations\n",
        "# wrong plot type\n",
        "# df_quant.explore(plot_type=\"pie\",column1=\"W0\")\n",
        "# wrong column name\n",
        "# df_quant.explore(plot_type=\"scatter\",column1=\"W0\",column2=\"W00\")"
      ],
      "execution_count": null,
      "outputs": []
    },
    {
      "cell_type": "code",
      "metadata": {
        "colab": {
          "base_uri": "https://localhost:8080/"
        },
        "id": "k1y8a7UdqBmP",
        "outputId": "fb413a73-64d4-4fce-9ad4-5cd24edb5bbb"
      },
      "source": [
        "df_quant.mean(column_name=\"W1\")\n",
        "# wrong column name\n",
        "# df_quant.mean(column_name=\"W1000\")"
      ],
      "execution_count": 72,
      "outputs": [
        {
          "output_type": "stream",
          "text": [
            "the mean of the column W1 is 9.129469790382243\n"
          ],
          "name": "stdout"
        }
      ]
    },
    {
      "cell_type": "code",
      "metadata": {
        "colab": {
          "base_uri": "https://localhost:8080/"
        },
        "id": "FjEzYPDRqJUE",
        "outputId": "2eb0d1bc-2769-42c5-a37f-a777fa3a11cb"
      },
      "source": [
        "df_quant.median(column_name_median=\"W2\")\n",
        "# wrong column name\n",
        "# df_quant.median(column_name_median=\"W200\")"
      ],
      "execution_count": 73,
      "outputs": [
        {
          "output_type": "stream",
          "text": [
            "the median of the column W2 is 3.0\n"
          ],
          "name": "stdout"
        }
      ]
    },
    {
      "cell_type": "code",
      "metadata": {
        "colab": {
          "base_uri": "https://localhost:8080/"
        },
        "id": "fAqZ0ByyqN7R",
        "outputId": "b9575ac2-95e9-43f3-94dd-de7c55902105"
      },
      "source": [
        "df_quant.mode(column_name_mode=\"W3\")\n",
        "# wrong column name\n",
        "# df_quant.mode(column_name_mode=\"W300\")"
      ],
      "execution_count": 74,
      "outputs": [
        {
          "output_type": "stream",
          "text": [
            "the mode of the column W3 is 0\n"
          ],
          "name": "stdout"
        }
      ]
    },
    {
      "cell_type": "code",
      "metadata": {
        "id": "iNiGXlTMqQ8Y"
      },
      "source": [
        "df_quant.order(column_name_order=\"W1\",decreasing=True)\n",
        "# wrong column name\n",
        "# df_quant.order(column_name_order=\"W400\",decreasing=True)\n",
        "# df_quant.order(column_name_order=\"W4\",decreasing='Yes')"
      ],
      "execution_count": null,
      "outputs": []
    },
    {
      "cell_type": "code",
      "metadata": {
        "id": "AkqKsVn7oxWy"
      },
      "source": [
        ""
      ],
      "execution_count": null,
      "outputs": []
    },
    {
      "cell_type": "code",
      "metadata": {
        "id": "-1VV55N8oxa8"
      },
      "source": [
        ""
      ],
      "execution_count": null,
      "outputs": []
    }
  ]
}